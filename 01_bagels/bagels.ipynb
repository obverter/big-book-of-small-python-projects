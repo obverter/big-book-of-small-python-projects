{
 "cells": [
  {
   "cell_type": "code",
   "execution_count": 24,
   "metadata": {},
   "outputs": [
    {
     "data": {
      "text/plain": [
       "'\\nBagels, by Al Sweigart al@inventwithpython.com.\\nA deductive logic game where you must guess a number based on clues.\\n'"
      ]
     },
     "execution_count": 24,
     "metadata": {},
     "output_type": "execute_result"
    }
   ],
   "source": [
    "\"\"\"\n",
    "Bagels, by Al Sweigart al@inventwithpython.com.\n",
    "A deductive logic game where you must guess a number based on clues.\n",
    "\"\"\""
   ]
  },
  {
   "cell_type": "code",
   "execution_count": 26,
   "metadata": {},
   "outputs": [],
   "source": [
    "import random"
   ]
  },
  {
   "cell_type": "code",
   "execution_count": 27,
   "metadata": {},
   "outputs": [],
   "source": [
    "NUM_DIGITS = 3 # ! Try setting this to something other than 3\n",
    "MAX_GUESSES = 10 # ! Try setting this to something other than 10"
   ]
  },
  {
   "cell_type": "code",
   "execution_count": 29,
   "metadata": {},
   "outputs": [],
   "source": [
    "def main():\n",
    "    print(\"Bagels: a deductive logic game. \\n By Al Sweigart\"\n",
    "          \"I am thinking of a {}-digit number with no repeated digits.\"\n",
    "          \"Try to guess what it is. Here are some clues:\"\n",
    "          \"When I say:   That Means:\"\n",
    "          \"Kinda         One digit is correct, but in the wrong position.\"\n",
    "          \"Nice       One digit is in the correct position.\"\n",
    "          \"Bagels        You're an idiot.\"\n",
    "          \n",
    "          \"For example, if the secret number was 248 and your guess was 843, the clues would be Kinda Nice.\".format(NUM_DIGITS))\n"
   ]
  },
  {
   "cell_type": "code",
   "execution_count": 30,
   "metadata": {},
   "outputs": [
    {
     "name": "stdout",
     "output_type": "stream",
     "text": [
      "I'm thinking of a number.\n",
      " You have 10 guesses to get it.\n",
      "Guess #1: \n",
      "Kinda!\n",
      "Had enough? (yn)\n",
      "Coward.\n",
      "Guess #2: \n",
      "Bagels\n",
      "Had enough? (yn)\n",
      "Coward.\n",
      "Guess #3: \n",
      "Bagels\n",
      "Had enough? (yn)\n",
      "Coward.\n",
      "Guess #4: \n",
      "Bagels\n",
      "Had enough? (yn)\n",
      "Coward.\n",
      "Guess #5: \n",
      "Bagels\n",
      "Had enough? (yn)\n",
      "Coward.\n",
      "Guess #6: \n",
      "Bagels\n",
      "Had enough? (yn)\n",
      "Coward.\n",
      "Guess #7: \n",
      "Bagels\n",
      "Had enough? (yn)\n",
      "Coward.\n",
      "Guess #8: \n",
      "Bagels\n",
      "Had enough? (yn)\n",
      "Coward.\n",
      "Guess #9: \n",
      "Bagels\n",
      "Had enough? (yn)\n",
      "Coward.\n",
      "Guess #10: \n",
      "Bagels\n",
      "You ran out of guesses, loser.\n",
      "The answer was 574.\n",
      "Had enough? (yn)\n",
      "Coward.\n",
      "I'm thinking of a number.\n",
      " You have 10 guesses to get it.\n",
      "Guess #1: \n",
      "Bagels\n",
      "Had enough? (yn)\n",
      "Coward.\n",
      "Guess #2: \n",
      "Bagels\n",
      "Had enough? (yn)\n",
      "Coward.\n",
      "Guess #3: \n",
      "Bagels\n",
      "Had enough? (yn)\n"
     ]
    },
    {
     "ename": "KeyboardInterrupt",
     "evalue": "Interrupted by user",
     "output_type": "error",
     "traceback": [
      "\u001b[0;31m---------------------------------------------------------------------------\u001b[0m",
      "\u001b[0;31mKeyboardInterrupt\u001b[0m                         Traceback (most recent call last)",
      "\u001b[1;32m/Users/bean/Dropbox/_BACK/60-69_dev/63_projects/big-book-of-small-python-projects/01_bagels/bagels.ipynb Cell 5'\u001b[0m in \u001b[0;36m<cell line: 1>\u001b[0;34m()\u001b[0m\n\u001b[1;32m     <a href='vscode-notebook-cell:/Users/bean/Dropbox/_BACK/60-69_dev/63_projects/big-book-of-small-python-projects/01_bagels/bagels.ipynb#ch0000004?line=24'>25</a>\u001b[0m     \u001b[39m# Ask loser if they want to play again.\u001b[39;00m\n\u001b[1;32m     <a href='vscode-notebook-cell:/Users/bean/Dropbox/_BACK/60-69_dev/63_projects/big-book-of-small-python-projects/01_bagels/bagels.ipynb#ch0000004?line=25'>26</a>\u001b[0m     \u001b[39mprint\u001b[39m(\u001b[39m\"\u001b[39m\u001b[39mHad enough? (yn)\u001b[39m\u001b[39m\"\u001b[39m)\n\u001b[0;32m---> <a href='vscode-notebook-cell:/Users/bean/Dropbox/_BACK/60-69_dev/63_projects/big-book-of-small-python-projects/01_bagels/bagels.ipynb#ch0000004?line=26'>27</a>\u001b[0m     \u001b[39mif\u001b[39;00m \u001b[39mnot\u001b[39;00m \u001b[39minput\u001b[39;49m(\u001b[39m\"\u001b[39;49m\u001b[39m> \u001b[39;49m\u001b[39m\"\u001b[39;49m)\u001b[39m.\u001b[39mlower()\u001b[39m.\u001b[39mstartswith(\u001b[39m\"\u001b[39m\u001b[39mn\u001b[39m\u001b[39m\"\u001b[39m):\n\u001b[1;32m     <a href='vscode-notebook-cell:/Users/bean/Dropbox/_BACK/60-69_dev/63_projects/big-book-of-small-python-projects/01_bagels/bagels.ipynb#ch0000004?line=27'>28</a>\u001b[0m         \u001b[39mbreak\u001b[39;00m\n\u001b[1;32m     <a href='vscode-notebook-cell:/Users/bean/Dropbox/_BACK/60-69_dev/63_projects/big-book-of-small-python-projects/01_bagels/bagels.ipynb#ch0000004?line=28'>29</a>\u001b[0m \u001b[39mprint\u001b[39m(\u001b[39m\"\u001b[39m\u001b[39mCoward.\u001b[39m\u001b[39m\"\u001b[39m)\n",
      "File \u001b[0;32m~/.pyenv/versions/3.10.3/envs/py3103/lib/python3.10/site-packages/ipykernel/kernelbase.py:1161\u001b[0m, in \u001b[0;36mKernel.raw_input\u001b[0;34m(self, prompt)\u001b[0m\n\u001b[1;32m   <a href='file:///Users/bean/.pyenv/versions/3.10.3/envs/py3103/lib/python3.10/site-packages/ipykernel/kernelbase.py?line=1156'>1157</a>\u001b[0m \u001b[39mif\u001b[39;00m \u001b[39mnot\u001b[39;00m \u001b[39mself\u001b[39m\u001b[39m.\u001b[39m_allow_stdin:\n\u001b[1;32m   <a href='file:///Users/bean/.pyenv/versions/3.10.3/envs/py3103/lib/python3.10/site-packages/ipykernel/kernelbase.py?line=1157'>1158</a>\u001b[0m     \u001b[39mraise\u001b[39;00m StdinNotImplementedError(\n\u001b[1;32m   <a href='file:///Users/bean/.pyenv/versions/3.10.3/envs/py3103/lib/python3.10/site-packages/ipykernel/kernelbase.py?line=1158'>1159</a>\u001b[0m         \u001b[39m\"\u001b[39m\u001b[39mraw_input was called, but this frontend does not support input requests.\u001b[39m\u001b[39m\"\u001b[39m\n\u001b[1;32m   <a href='file:///Users/bean/.pyenv/versions/3.10.3/envs/py3103/lib/python3.10/site-packages/ipykernel/kernelbase.py?line=1159'>1160</a>\u001b[0m     )\n\u001b[0;32m-> <a href='file:///Users/bean/.pyenv/versions/3.10.3/envs/py3103/lib/python3.10/site-packages/ipykernel/kernelbase.py?line=1160'>1161</a>\u001b[0m \u001b[39mreturn\u001b[39;00m \u001b[39mself\u001b[39;49m\u001b[39m.\u001b[39;49m_input_request(\n\u001b[1;32m   <a href='file:///Users/bean/.pyenv/versions/3.10.3/envs/py3103/lib/python3.10/site-packages/ipykernel/kernelbase.py?line=1161'>1162</a>\u001b[0m     \u001b[39mstr\u001b[39;49m(prompt),\n\u001b[1;32m   <a href='file:///Users/bean/.pyenv/versions/3.10.3/envs/py3103/lib/python3.10/site-packages/ipykernel/kernelbase.py?line=1162'>1163</a>\u001b[0m     \u001b[39mself\u001b[39;49m\u001b[39m.\u001b[39;49m_parent_ident[\u001b[39m\"\u001b[39;49m\u001b[39mshell\u001b[39;49m\u001b[39m\"\u001b[39;49m],\n\u001b[1;32m   <a href='file:///Users/bean/.pyenv/versions/3.10.3/envs/py3103/lib/python3.10/site-packages/ipykernel/kernelbase.py?line=1163'>1164</a>\u001b[0m     \u001b[39mself\u001b[39;49m\u001b[39m.\u001b[39;49mget_parent(\u001b[39m\"\u001b[39;49m\u001b[39mshell\u001b[39;49m\u001b[39m\"\u001b[39;49m),\n\u001b[1;32m   <a href='file:///Users/bean/.pyenv/versions/3.10.3/envs/py3103/lib/python3.10/site-packages/ipykernel/kernelbase.py?line=1164'>1165</a>\u001b[0m     password\u001b[39m=\u001b[39;49m\u001b[39mFalse\u001b[39;49;00m,\n\u001b[1;32m   <a href='file:///Users/bean/.pyenv/versions/3.10.3/envs/py3103/lib/python3.10/site-packages/ipykernel/kernelbase.py?line=1165'>1166</a>\u001b[0m )\n",
      "File \u001b[0;32m~/.pyenv/versions/3.10.3/envs/py3103/lib/python3.10/site-packages/ipykernel/kernelbase.py:1205\u001b[0m, in \u001b[0;36mKernel._input_request\u001b[0;34m(self, prompt, ident, parent, password)\u001b[0m\n\u001b[1;32m   <a href='file:///Users/bean/.pyenv/versions/3.10.3/envs/py3103/lib/python3.10/site-packages/ipykernel/kernelbase.py?line=1201'>1202</a>\u001b[0m             \u001b[39mbreak\u001b[39;00m\n\u001b[1;32m   <a href='file:///Users/bean/.pyenv/versions/3.10.3/envs/py3103/lib/python3.10/site-packages/ipykernel/kernelbase.py?line=1202'>1203</a>\u001b[0m \u001b[39mexcept\u001b[39;00m \u001b[39mKeyboardInterrupt\u001b[39;00m:\n\u001b[1;32m   <a href='file:///Users/bean/.pyenv/versions/3.10.3/envs/py3103/lib/python3.10/site-packages/ipykernel/kernelbase.py?line=1203'>1204</a>\u001b[0m     \u001b[39m# re-raise KeyboardInterrupt, to truncate traceback\u001b[39;00m\n\u001b[0;32m-> <a href='file:///Users/bean/.pyenv/versions/3.10.3/envs/py3103/lib/python3.10/site-packages/ipykernel/kernelbase.py?line=1204'>1205</a>\u001b[0m     \u001b[39mraise\u001b[39;00m \u001b[39mKeyboardInterrupt\u001b[39;00m(\u001b[39m\"\u001b[39m\u001b[39mInterrupted by user\u001b[39m\u001b[39m\"\u001b[39m) \u001b[39mfrom\u001b[39;00m \u001b[39mNone\u001b[39m\n\u001b[1;32m   <a href='file:///Users/bean/.pyenv/versions/3.10.3/envs/py3103/lib/python3.10/site-packages/ipykernel/kernelbase.py?line=1205'>1206</a>\u001b[0m \u001b[39mexcept\u001b[39;00m \u001b[39mException\u001b[39;00m:\n\u001b[1;32m   <a href='file:///Users/bean/.pyenv/versions/3.10.3/envs/py3103/lib/python3.10/site-packages/ipykernel/kernelbase.py?line=1206'>1207</a>\u001b[0m     \u001b[39mself\u001b[39m\u001b[39m.\u001b[39mlog\u001b[39m.\u001b[39mwarning(\u001b[39m\"\u001b[39m\u001b[39mInvalid Message:\u001b[39m\u001b[39m\"\u001b[39m, exc_info\u001b[39m=\u001b[39m\u001b[39mTrue\u001b[39;00m)\n",
      "\u001b[0;31mKeyboardInterrupt\u001b[0m: Interrupted by user"
     ]
    }
   ],
   "source": [
    "while True:  # Main game loop.\n",
    "    # This stores the secret number the player needs to guess:\n",
    "    secretNum = getSecretNum()\n",
    "    print(\"I'm thinking of a number.\")\n",
    "    print(\" You have {} guesses to get it.\".format(MAX_GUESSES))\n",
    "\n",
    "    numGuesses = 1\n",
    "    while numGuesses <= MAX_GUESSES:\n",
    "        guess = \"\"\n",
    "        # Keep looping until they enter a valid guess.\n",
    "        while len(guess) != NUM_DIGITS or not guess.isdecimal():\n",
    "            print(\"Guess #{}: \".format(numGuesses))\n",
    "            guess = input(\"> \")\n",
    "\n",
    "            clues = getClues(guess, secretNum)\n",
    "            print(clues)\n",
    "            numGuesses += 1\n",
    "\n",
    "            if guess == secretNum:\n",
    "                break  # They're correct, so break out of this loop.\n",
    "            if numGuesses > MAX_GUESSES:\n",
    "                print(\"You ran out of guesses, loser.\")\n",
    "                print(\"The answer was {}.\".format(secretNum))\n",
    "\n",
    "            # Ask loser if they want to play again.\n",
    "            print(\"Had enough? (yn)\")\n",
    "            if not input(\"> \").lower().startswith(\"n\"):\n",
    "                break\n",
    "        print(\"Coward.\")"
   ]
  },
  {
   "cell_type": "code",
   "execution_count": null,
   "metadata": {},
   "outputs": [],
   "source": [
    "def getSecretNum():\n",
    "    \"\"\"Returns a string comprising NUM_DIGITS unique random digits.\"\"\"\n",
    "    numbers = list('0123456789') # init list of nums 0-9\n",
    "    random.shuffle(numbers) # shuffle numbers randomly\n",
    "    \n",
    "    # Get the first NUM_DIGITS digits in the list for th secret number:\n",
    "    secretNum = ''\n",
    "    for i in range(NUM_DIGITS):\n",
    "        secretNum += str(numbers[i])\n",
    "    return secretNum"
   ]
  },
  {
   "cell_type": "code",
   "execution_count": null,
   "metadata": {},
   "outputs": [],
   "source": [
    "def getClues(guess, secretNum):\n",
    "    \"\"\"Returns a string with the Kinda, Not Bad, Bagels clues for a guess and secret number pair.\"\"\"\n",
    "    if guess == secretNum:\n",
    "        return \"Well I'll be damned.\"\n",
    "    \n",
    "    clues = []\n",
    "    \n",
    "    for i in range(len(guess)):\n",
    "        if guess[i] == secretNum[i]:\n",
    "            # A correct digit is in the correct place.\n",
    "            clues.append(\"Not Bad!\")\n",
    "        elif guess[i] in secretNum:\n",
    "        # A correct digit is in the correct place.\n",
    "            clues.append('Kinda!')\n",
    "    \n",
    "    if len(clues) == 0:\n",
    "        return 'Bagels'  # There are no correct digits at all.\n",
    "    else:\n",
    "        #Sort the clues into alphabetical order so their original order doesn't spoil.\n",
    "        clues.sort()\n",
    "        # Make a single string from the list of string clues.\n",
    "        return ' '.join(clues)\n",
    "    \n",
    "    \n",
    "    # If the program is run (instead of imported), run the game:\n",
    "    if __name__ == '__main__':\n",
    "        main()"
   ]
  },
  {
   "cell_type": "code",
   "execution_count": null,
   "metadata": {},
   "outputs": [],
   "source": []
  }
 ],
 "metadata": {
  "interpreter": {
   "hash": "079f5563d219d058efba31cdcc3d8781a166a82d3806ed6b2673c5495d7a9801"
  },
  "kernelspec": {
   "display_name": "Python 3.10.3 64-bit ('py3103')",
   "language": "python",
   "name": "python3"
  },
  "language_info": {
   "codemirror_mode": {
    "name": "ipython",
    "version": 3
   },
   "file_extension": ".py",
   "mimetype": "text/x-python",
   "name": "python",
   "nbconvert_exporter": "python",
   "pygments_lexer": "ipython3",
   "version": "3.10.3"
  },
  "orig_nbformat": 4
 },
 "nbformat": 4,
 "nbformat_minor": 2
}
