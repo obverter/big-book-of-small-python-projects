{
 "cells": [
  {
   "cell_type": "code",
   "execution_count": 1,
   "metadata": {},
   "outputs": [
    {
     "data": {
      "text/plain": [
       "'\\nBagels, by Al Sweigart al@inventwithpython.com.\\nA deductive logic game where you must guess a number based on clues.\\n'"
      ]
     },
     "execution_count": 1,
     "metadata": {},
     "output_type": "execute_result"
    }
   ],
   "source": [
    "\"\"\"\n",
    "Bagels, by Al Sweigart al@inventwithpython.com.\n",
    "A deductive logic game where you must guess a number based on clues.\n",
    "\"\"\""
   ]
  },
  {
   "cell_type": "code",
   "execution_count": 2,
   "metadata": {},
   "outputs": [],
   "source": [
    "import random"
   ]
  },
  {
   "cell_type": "code",
   "execution_count": 3,
   "metadata": {},
   "outputs": [],
   "source": [
    "NUM_DIGITS = 3 # ! Try setting this to something other than 3\n",
    "MAX_GUESSES = 10 # ! Try setting this to something other than 10"
   ]
  },
  {
   "cell_type": "code",
   "execution_count": null,
   "metadata": {},
   "outputs": [],
   "source": [
    "def main():\n",
    "    print(\"Bagels: a deductive logic game. \\n By Al Sweigart\"\n",
    "          \"I am thinking of a {}-digit number with no repeated digits.\"\n",
    "          \"Try to guess what it is. Here are some clues:\"\n",
    "          \"When I say:   That Means:\"\n",
    "          \"Kinda         One digit is correct, but in the wrong position.\"\n",
    "          \"Nice       One digit is in the correct position.\"\n",
    "          \"Bagels        You're an idiot.\"\n",
    "          \n",
    "          \"For example, if the secret number was 248 and your guess was 843, the clues would be Kinda Nice.\".format(NUM_DIGITS))\n"
   ]
  }
 ],
 "metadata": {
  "interpreter": {
   "hash": "079f5563d219d058efba31cdcc3d8781a166a82d3806ed6b2673c5495d7a9801"
  },
  "kernelspec": {
   "display_name": "Python 3.10.3 64-bit ('py3103')",
   "language": "python",
   "name": "python3"
  },
  "language_info": {
   "codemirror_mode": {
    "name": "ipython",
    "version": 3
   },
   "file_extension": ".py",
   "mimetype": "text/x-python",
   "name": "python",
   "nbconvert_exporter": "python",
   "pygments_lexer": "ipython3",
   "version": "3.10.3"
  },
  "orig_nbformat": 4
 },
 "nbformat": 4,
 "nbformat_minor": 2
}
