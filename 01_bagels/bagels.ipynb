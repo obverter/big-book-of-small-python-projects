{
 "cells": [
  {
   "cell_type": "code",
   "execution_count": null,
   "metadata": {},
   "outputs": [],
   "source": [
    "\"\"\"\n",
    "Bagels, by Al Sweigart al@inventwithpython.com.\n",
    "A deductive logic game where you must guess a number based on clues.\n",
    "\"\"\""
   ]
  },
  {
   "cell_type": "code",
   "execution_count": null,
   "metadata": {},
   "outputs": [],
   "source": [
    "import random"
   ]
  },
  {
   "cell_type": "code",
   "execution_count": null,
   "metadata": {},
   "outputs": [],
   "source": [
    "NUM_DIGITS = 3 # ! Try setting this to something other than 3\n",
    "MAX_GUESSES = 10 # ! Try setting this to something other than 10"
   ]
  },
  {
   "cell_type": "code",
   "execution_count": null,
   "metadata": {},
   "outputs": [],
   "source": [
    "def main():\n",
    "    print(\"Bagels: a deductive logic game. \\n By Al Sweigart\"\n",
    "          \"I am thinking of a {}-digit number with no repeated digits.\"\n",
    "          \"Try to guess what it is. Here are some clues:\"\n",
    "          \"When I say:   That Means:\"\n",
    "          \"Kinda         One digit is correct, but in the wrong position.\"\n",
    "          \"Nice       One digit is in the correct position.\"\n",
    "          \"Bagels        You're an idiot.\"\n",
    "          \n",
    "          \"For example, if the secret number was 248 and your guess was 843, the clues would be Kinda Nice.\".format(NUM_DIGITS))\n"
   ]
  },
  {
   "cell_type": "code",
   "execution_count": null,
   "metadata": {},
   "outputs": [],
   "source": [
    "while True:  #Main game loop.\n",
    "    # This stores the secret number the player needs to guess:\n",
    "    secretNum = getSecretNum()\n",
    "    print(\"I'm thinking of a number.\")\n",
    "    print(\" You have {} guesses to get it.\".format(MAX_GUESSES))\n",
    "    \n",
    "    numGuesses = 1\n",
    "    while numGuesses <= MAX_GUESSES:\n",
    "        guess = ''\n",
    "        # Keep looping until they enter a valid guess.\n",
    "        while len(guess) != NUM_DIGITS or not guess.isdecimal():\n",
    "            print(\"Guess #{}: \".format(numGuesses))\n",
    "            guess = input('> ')\n",
    "            \n",
    "            clues = getClues(guess, secretNum)\n",
    "            print(clues)\n",
    "            numGuesses += 1\n",
    "            \n",
    "            if guess == secretNum:\n",
    "                break # They're correct, so break out of this loop.\n",
    "            if numGuesses > MAX_GUESSES:\n",
    "                print('You ran out of guesses, loser.')\n",
    "                print('The answer was {}.'.format(secretNum))\n",
    "                \n",
    "            # Ask loser if they want to play again.\n",
    "            print('Had enough? (yn)')\n",
    "            if not input('> ').lower().startswith('n'):\n",
    "                break\n",
    "        print('Coward.')"
   ]
  },
  {
   "cell_type": "code",
   "execution_count": null,
   "metadata": {},
   "outputs": [],
   "source": [
    "def getSecretNum():\n",
    "    \"\"\"Returns a string comprising NUM_DIGITS unique random digits.\"\"\"\n",
    "    numbers = list('0123456789') # init list of nums 0-9\n",
    "    random.shuffle(numbers) # shuffle numbers randomly\n",
    "    \n",
    "    # Get the first NUM_DIGITS digits in the list for th secret number:\n",
    "    secretNum = ''\n",
    "    for i in range(NUM_DIGITS):\n",
    "        secretNum += str(numbers[i])\n",
    "    return secretNum"
   ]
  },
  {
   "cell_type": "code",
   "execution_count": null,
   "metadata": {},
   "outputs": [],
   "source": [
    "def getClues(guess, secretNum):\n",
    "    \"\"\"Returns a string with the Kinda, Not Bad, Bagels clues for a guess and secret number pair.\"\"\"\n",
    "    if guess == secretNum:\n",
    "        return \"Well I'll be damned.\"\n",
    "    \n",
    "    clues = []\n",
    "    \n",
    "    for i in range(len(guess)):\n",
    "        if guess[i] == secretNum[i]:\n",
    "            # A correct digit is in the correct place.\n",
    "            clues.append(\"Not Bad!\")\n",
    "        elif guess[i] in secretNum:\n",
    "        # A correct digit is in the correct place.\n",
    "            clues.append('Kinda!')\n",
    "    \n",
    "    if len(clues) == 0:\n",
    "        return 'Bagels'  # There are no correct digits at all.\n",
    "    else:\n",
    "        #Sort the clues into alphabetical order so their original order doesn't spoil.\n",
    "        clues.sort()\n",
    "        # Make a single string from the list of string clues.\n",
    "        return ' '.join(clues)\n",
    "    \n",
    "    \n",
    "    # If the program is run (instead of imported), run the game:\n",
    "    if __name__ == '__main__':\n",
    "        main()"
   ]
  },
  {
   "cell_type": "code",
   "execution_count": null,
   "metadata": {},
   "outputs": [],
   "source": []
  }
 ],
 "metadata": {
  "interpreter": {
   "hash": "079f5563d219d058efba31cdcc3d8781a166a82d3806ed6b2673c5495d7a9801"
  },
  "kernelspec": {
   "display_name": "Python 3.10.3 64-bit ('py3103')",
   "language": "python",
   "name": "python3"
  },
  "language_info": {
   "codemirror_mode": {
    "name": "ipython",
    "version": 3
   },
   "file_extension": ".py",
   "mimetype": "text/x-python",
   "name": "python",
   "nbconvert_exporter": "python",
   "pygments_lexer": "ipython3",
   "version": "3.10.3"
  },
  "orig_nbformat": 4
 },
 "nbformat": 4,
 "nbformat_minor": 2
}
